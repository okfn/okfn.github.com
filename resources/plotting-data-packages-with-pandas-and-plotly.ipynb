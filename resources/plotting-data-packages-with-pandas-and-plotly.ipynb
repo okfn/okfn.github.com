{
 "cells": [
  {
   "cell_type": "markdown",
   "metadata": {},
   "source": [
    "# Plotting Data Packages using Pandas and Plotly Express\n",
    "See the [tableschema-pandas-py](https://github.com/frictionlessdata/tableschema-pandas-py) repository for more information."
   ]
  },
  {
   "cell_type": "code",
   "execution_count": 1,
   "metadata": {},
   "outputs": [],
   "source": [
    "# for reading data packages into Pandas\n",
    "from tableschema import Storage\n",
    "from datapackage import Package\n",
    "import pandas as pd\n",
    "\n",
    "# for plotting data\n",
    "import plotly_express as px"
   ]
  },
  {
   "cell_type": "code",
   "execution_count": 2,
   "metadata": {},
   "outputs": [
    {
     "data": {
      "text/plain": [
       "True"
      ]
     },
     "execution_count": 2,
     "metadata": {},
     "output_type": "execute_result"
    }
   ],
   "source": [
    "# load resources from a data package as Pandas data frames by using datapackage.push_datapackage function:\n",
    "url = 'https://raw.githubusercontent.com/frictionlessdata/example-data-packages/master/cpi/datapackage.json'\n",
    "\n",
    "storage = Storage.connect('pandas')\n",
    "package = Package(url)\n",
    "package.save(storage=storage)"
   ]
  },
  {
   "cell_type": "code",
   "execution_count": 3,
   "metadata": {},
   "outputs": [
    {
     "data": {
      "text/plain": [
       "['cpi']"
      ]
     },
     "execution_count": 3,
     "metadata": {},
     "output_type": "execute_result"
    }
   ],
   "source": [
    "# Storage works as a container for Pandas data frames\n",
    "# learn more about storage here: https://github.com/frictionlessdata/tableschema-py#storage\n",
    "storage.buckets"
   ]
  },
  {
   "cell_type": "code",
   "execution_count": 4,
   "metadata": {},
   "outputs": [
    {
     "data": {
      "text/plain": [
       "pandas.core.frame.DataFrame"
      ]
     },
     "execution_count": 4,
     "metadata": {},
     "output_type": "execute_result"
    }
   ],
   "source": [
    "type(storage['cpi'])"
   ]
  },
  {
   "cell_type": "code",
   "execution_count": 5,
   "metadata": {},
   "outputs": [
    {
     "data": {
      "text/html": [
       "<div>\n",
       "<style scoped>\n",
       "    .dataframe tbody tr th:only-of-type {\n",
       "        vertical-align: middle;\n",
       "    }\n",
       "\n",
       "    .dataframe tbody tr th {\n",
       "        vertical-align: top;\n",
       "    }\n",
       "\n",
       "    .dataframe thead th {\n",
       "        text-align: right;\n",
       "    }\n",
       "</style>\n",
       "<table border=\"1\" class=\"dataframe\">\n",
       "  <thead>\n",
       "    <tr style=\"text-align: right;\">\n",
       "      <th></th>\n",
       "      <th>Country Name</th>\n",
       "      <th>Country Code</th>\n",
       "      <th>Year</th>\n",
       "      <th>CPI</th>\n",
       "    </tr>\n",
       "  </thead>\n",
       "  <tbody>\n",
       "    <tr>\n",
       "      <th>0</th>\n",
       "      <td>Afghanistan</td>\n",
       "      <td>AFG</td>\n",
       "      <td>2004</td>\n",
       "      <td>63.131893</td>\n",
       "    </tr>\n",
       "    <tr>\n",
       "      <th>1</th>\n",
       "      <td>Afghanistan</td>\n",
       "      <td>AFG</td>\n",
       "      <td>2005</td>\n",
       "      <td>71.140974</td>\n",
       "    </tr>\n",
       "    <tr>\n",
       "      <th>2</th>\n",
       "      <td>Afghanistan</td>\n",
       "      <td>AFG</td>\n",
       "      <td>2006</td>\n",
       "      <td>76.302178</td>\n",
       "    </tr>\n",
       "    <tr>\n",
       "      <th>3</th>\n",
       "      <td>Afghanistan</td>\n",
       "      <td>AFG</td>\n",
       "      <td>2007</td>\n",
       "      <td>82.774807</td>\n",
       "    </tr>\n",
       "    <tr>\n",
       "      <th>4</th>\n",
       "      <td>Afghanistan</td>\n",
       "      <td>AFG</td>\n",
       "      <td>2008</td>\n",
       "      <td>108.066600</td>\n",
       "    </tr>\n",
       "  </tbody>\n",
       "</table>\n",
       "</div>"
      ],
      "text/plain": [
       "  Country Name Country Code  Year         CPI\n",
       "0  Afghanistan          AFG  2004   63.131893\n",
       "1  Afghanistan          AFG  2005   71.140974\n",
       "2  Afghanistan          AFG  2006   76.302178\n",
       "3  Afghanistan          AFG  2007   82.774807\n",
       "4  Afghanistan          AFG  2008  108.066600"
      ]
     },
     "execution_count": 5,
     "metadata": {},
     "output_type": "execute_result"
    }
   ],
   "source": [
    "# you can now use Pandas functions to work with your data package-turned-data frame\n",
    "storage['cpi'].head()"
   ]
  },
  {
   "cell_type": "code",
   "execution_count": 6,
   "metadata": {},
   "outputs": [
    {
     "data": {
      "text/plain": [
       "{'name': 'cpi',\n",
       " 'title': 'Annual Consumer Price Index (CPI)',\n",
       " 'description': 'Annual Consumer Price Index (CPI) for most countries in the world. Reference year is 2005.',\n",
       " 'profile': 'tabular-data-package',\n",
       " 'licenses': [{'name': 'CC-BY-4.0',\n",
       "   'title': 'Creative Commons Attribution 4.0',\n",
       "   'path': 'https://creativecommons.org/licenses/by/4.0/'}],\n",
       " 'keywords': ['CPI',\n",
       "  'World',\n",
       "  'Consumer Price Index',\n",
       "  'Annual Data',\n",
       "  'The World Bank'],\n",
       " 'version': '2.0.0',\n",
       " 'sources': [{'title': 'The World Bank',\n",
       "   'path': 'http://data.worldbank.org/indicator/FP.CPI.TOTL'}],\n",
       " 'resources': [{'path': 'data/cpi.csv',\n",
       "   'name': 'cpi',\n",
       "   'profile': 'tabular-data-resource',\n",
       "   'schema': {'fields': [{'name': 'Country Name',\n",
       "      'type': 'string',\n",
       "      'format': 'default'},\n",
       "     {'name': 'Country Code', 'type': 'string', 'format': 'default'},\n",
       "     {'name': 'Year', 'type': 'year', 'format': 'default'},\n",
       "     {'name': 'CPI',\n",
       "      'description': 'CPI (where 2005=100)',\n",
       "      'type': 'number',\n",
       "      'format': 'default'}],\n",
       "    'missingValues': ['']}}]}"
      ]
     },
     "execution_count": 6,
     "metadata": {},
     "output_type": "execute_result"
    }
   ],
   "source": [
    "# we can also get some info from the package descriptor\n",
    "package.descriptor"
   ]
  },
  {
   "cell_type": "code",
   "execution_count": null,
   "metadata": {},
   "outputs": [],
   "source": [
    "# let's plot it\n",
    "px.line(\n",
    "    # get data from 2008 onwards\n",
    "    storage['cpi'].loc[storage['cpi']['Year'] >= 2008],\n",
    "    # set title and subtitle according to data package\n",
    "    title = '<br>'.join((\n",
    "        package.descriptor['title'],\n",
    "        f\"<span style='font-size: small;'>{package.descriptor['description']}</span>\"\n",
    "    )),\n",
    "    # set column to use for the x axis\n",
    "    x = 'Year',\n",
    "    # set column to use for the y axis\n",
    "    y = 'CPI',\n",
    "    color = 'Country Name',\n",
    "    # by default labels repeat the column a lot of times so we remove them\n",
    "    labels = {'Country Name': ''}\n",
    ")"
   ]
  },
  {
   "cell_type": "markdown",
   "metadata": {},
   "source": [
    "![Annual Consumer Price Index (CPI)](../img/consumer-price-index-plotly.png)\n",
    "\n",
    "**Notes:**\n",
    "\n",
    "* Output from the plot is included as a static image so you can preview it in\n",
    "  Github, without getting the notebook file size too high. When running the\n",
    "  notebook, the output will be an interactive plot.\n",
    "* The data package description says the reference year is 2005, but from the\n",
    "  actual data it seems to be 2010.\n",
    "* The countries with hiperinflation are clearly visible outliers:\n",
    "  Venezuela, Sudan, Iran, Malawi, Ethiopia and Guinea."
   ]
  }
 ],
 "metadata": {
  "kernelspec": {
   "display_name": "Python 3",
   "language": "python",
   "name": "python3"
  },
  "language_info": {
   "codemirror_mode": {
    "name": "ipython",
    "version": 3
   },
   "file_extension": ".py",
   "mimetype": "text/x-python",
   "name": "python",
   "nbconvert_exporter": "python",
   "pygments_lexer": "ipython3",
   "version": "3.6.8"
  }
 },
 "nbformat": 4,
 "nbformat_minor": 4
}
